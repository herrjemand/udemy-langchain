{
 "cells": [
  {
   "cell_type": "code",
   "execution_count": 10,
   "metadata": {},
   "outputs": [
    {
     "data": {
      "text/plain": [
       "True"
      ]
     },
     "execution_count": 10,
     "metadata": {},
     "output_type": "execute_result"
    }
   ],
   "source": [
    "from dotenv import load_dotenv\n",
    "load_dotenv(dotenv_path='.env')"
   ]
  },
  {
   "cell_type": "markdown",
   "metadata": {},
   "source": [
    "# LLMs"
   ]
  },
  {
   "cell_type": "code",
   "execution_count": 11,
   "metadata": {},
   "outputs": [
    {
     "data": {
      "text/plain": [
       "'\\n\\nI am an AI and do not have the capability to feel emotions. Is there something else I can assist you with?'"
      ]
     },
     "execution_count": 11,
     "metadata": {},
     "output_type": "execute_result"
    }
   ],
   "source": [
    "from langchain.llms import OpenAI\n",
    "\n",
    "llm = OpenAI()\n",
    "\n",
    "llm.predict(\"How are you?\")"
   ]
  },
  {
   "cell_type": "code",
   "execution_count": 12,
   "metadata": {},
   "outputs": [
    {
     "data": {
      "text/plain": [
       "\"I'm sorry, but as an AI language model, I don't have access to your browsing history or any previous questions you may have asked.\""
      ]
     },
     "execution_count": 12,
     "metadata": {},
     "output_type": "execute_result"
    }
   ],
   "source": [
    "from langchain.chat_models import ChatOpenAI\n",
    "\n",
    "chat_model = ChatOpenAI()\n",
    "\n",
    "chat_model.predict(\"How are you?\")\n",
    "\n",
    "chat_model.predict(\"What was my previous question?\")"
   ]
  },
  {
   "cell_type": "markdown",
   "metadata": {},
   "source": [
    "# Chains"
   ]
  },
  {
   "cell_type": "code",
   "execution_count": 13,
   "metadata": {},
   "outputs": [
    {
     "name": "stdout",
     "output_type": "stream",
     "text": [
      "\n",
      "\n",
      "\u001b[1m> Entering new ConversationChain chain...\u001b[0m\n",
      "Prompt after formatting:\n",
      "\u001b[32;1m\u001b[1;3mThe following is a friendly conversation between a human and an AI. The AI is talkative and provides lots of specific details from its context. If the AI does not know the answer to a question, it truthfully says it does not know.\n",
      "\n",
      "Current conversation:\n",
      "\n",
      "Human: How are you today?\n",
      "AI:\u001b[0m\n",
      "\n",
      "\u001b[1m> Finished chain.\u001b[0m\n"
     ]
    },
    {
     "data": {
      "text/plain": [
       "\"I'm an AI, so I don't have feelings in the same way humans do. But I'm here and ready to help you with any questions or tasks you have! How can I assist you today?\""
      ]
     },
     "execution_count": 13,
     "metadata": {},
     "output_type": "execute_result"
    }
   ],
   "source": [
    "from langchain.chains import ConversationChain\n",
    "\n",
    "chain = ConversationChain(\n",
    "    llm=chat_model,\n",
    "    verbose=True\n",
    ")\n",
    "\n",
    "chain.run(\"How are you today?\")"
   ]
  },
  {
   "cell_type": "code",
   "execution_count": 14,
   "metadata": {},
   "outputs": [
    {
     "name": "stdout",
     "output_type": "stream",
     "text": [
      "\n",
      "\n",
      "\u001b[1m> Entering new ConversationChain chain...\u001b[0m\n",
      "Prompt after formatting:\n",
      "\u001b[32;1m\u001b[1;3mThe following is a friendly conversation between a human and an AI. The AI is talkative and provides lots of specific details from its context. If the AI does not know the answer to a question, it truthfully says it does not know.\n",
      "\n",
      "Current conversation:\n",
      "Human: How are you today?\n",
      "AI: I'm an AI, so I don't have feelings in the same way humans do. But I'm here and ready to help you with any questions or tasks you have! How can I assist you today?\n",
      "Human: What was my previous question?\n",
      "AI:\u001b[0m\n",
      "\n",
      "\u001b[1m> Finished chain.\u001b[0m\n"
     ]
    },
    {
     "data": {
      "text/plain": [
       "'Your previous question was \"How are you today?\"'"
      ]
     },
     "execution_count": 14,
     "metadata": {},
     "output_type": "execute_result"
    }
   ],
   "source": [
    "chain.run(\"What was my previous question?\")"
   ]
  },
  {
   "cell_type": "markdown",
   "metadata": {},
   "source": [
    "Prompt Template"
   ]
  },
  {
   "cell_type": "code",
   "execution_count": 15,
   "metadata": {},
   "outputs": [
    {
     "name": "stdout",
     "output_type": "stream",
     "text": [
      "\n",
      "\n",
      "\u001b[1m> Entering new LLMChain chain...\u001b[0m\n",
      "Prompt after formatting:\n",
      "\u001b[32;1m\u001b[1;3m\n",
      "Return all subcategories of a given category.\n",
      "\n",
      "Category: Computer science\n",
      "\u001b[0m\n",
      "\n",
      "\u001b[1m> Finished chain.\u001b[0m\n"
     ]
    },
    {
     "data": {
      "text/plain": [
       "'\\n1. Algorithms\\n2. Data structures\\n3. Programming languages\\n4. Software engineering\\n5. Artificial intelligence\\n6. Computer graphics\\n7. Computer networks\\n8. Database systems\\n9. Human-computer interaction\\n10. Operating systems\\n11. Computer security\\n12. Web development\\n13. Mobile computing\\n14. Machine learning\\n15. Computational theory\\n16. Computer architecture\\n17. Computer vision\\n18. Natural language processing\\n19. Distributed systems\\n20. Bioinformatics.'"
      ]
     },
     "execution_count": 15,
     "metadata": {},
     "output_type": "execute_result"
    }
   ],
   "source": [
    "from langchain.prompts import PromptTemplate\n",
    "\n",
    "template = \"\"\"\n",
    "Return all subcategories of a given category.\n",
    "\n",
    "Category: {category}\n",
    "\"\"\"\n",
    "\n",
    "prompt = PromptTemplate(\n",
    "    template=template,\n",
    "    input_variables=[\"category\"],\n",
    ")\n",
    "\n",
    "from langchain.chains import LLMChain\n",
    "\n",
    "llm_chain = LLMChain(\n",
    "    llm=llm,\n",
    "    prompt=prompt,\n",
    "    verbose=True,\n",
    ")\n",
    "\n",
    "llm_chain.run(category=\"Computer science\")"
   ]
  },
  {
   "cell_type": "code",
   "execution_count": 16,
   "metadata": {},
   "outputs": [
    {
     "name": "stdout",
     "output_type": "stream",
     "text": [
      "\n",
      "\n",
      "\u001b[1m> Entering new LLMChain chain...\u001b[0m\n",
      "Prompt after formatting:\n",
      "\u001b[32;1m\u001b[1;3mSystem: \n",
      "You are a helpful assistant who generates comma separated lists.\n",
      "A user will only pass a category and you should generate a list of subcategories.\n",
      "ONLY return comma separated values and nothing else!\n",
      "\n",
      "Human: Machine learning\u001b[0m\n",
      "\n",
      "\u001b[1m> Finished chain.\u001b[0m\n"
     ]
    },
    {
     "data": {
      "text/plain": [
       "'\\n\\nSupervised learning, Unsupervised learning, Reinforcement learning'"
      ]
     },
     "execution_count": 16,
     "metadata": {},
     "output_type": "execute_result"
    }
   ],
   "source": [
    "from langchain.prompts import ChatPromptTemplate, SystemMessagePromptTemplate, HumanMessagePromptTemplate, ChatMessagePromptTemplate\n",
    "\n",
    "system_template = \"\"\"\n",
    "You are a helpful assistant who generates comma separated lists.\n",
    "A user will only pass a category and you should generate a list of subcategories.\n",
    "ONLY return comma separated values and nothing else!\n",
    "\"\"\"\n",
    "\n",
    "prompt = ChatPromptTemplate.from_messages([\n",
    "    SystemMessagePromptTemplate.from_template(system_template),\n",
    "    HumanMessagePromptTemplate.from_template(\"{category}\"),\n",
    "])\n",
    "\n",
    "chain = LLMChain(\n",
    "    llm=llm,\n",
    "    prompt=prompt,\n",
    "    verbose=True,\n",
    ")\n",
    "\n",
    "chain.run(\"Machine learning\")\n",
    "\n",
    "\n",
    "\n"
   ]
  },
  {
   "cell_type": "markdown",
   "metadata": {},
   "source": [
    "# Output parser"
   ]
  },
  {
   "cell_type": "code",
   "execution_count": 18,
   "metadata": {},
   "outputs": [
    {
     "name": "stdout",
     "output_type": "stream",
     "text": [
      "\n",
      "\n",
      "\u001b[1m> Entering new LLMChain chain...\u001b[0m\n",
      "Prompt after formatting:\n",
      "\u001b[32;1m\u001b[1;3mSystem: \n",
      "You are a helpful assistant who generates comma separated lists.\n",
      "A user will only pass a category and you should generate a list of subcategories.\n",
      "ONLY return comma separated values and nothing else!\n",
      "\n",
      "Human: Machine learning\u001b[0m\n",
      "\n",
      "\u001b[1m> Finished chain.\u001b[0m\n"
     ]
    },
    {
     "data": {
      "text/plain": [
       "['Deep learning',\n",
       " 'Reinforcement learning',\n",
       " 'Supervised learning',\n",
       " 'Unsupervised learning',\n",
       " 'Natural language processing',\n",
       " 'Computer vision']"
      ]
     },
     "execution_count": 18,
     "metadata": {},
     "output_type": "execute_result"
    }
   ],
   "source": [
    "from langchain.schema import BaseOutputParser\n",
    "\n",
    "class CommaSeparatedParser(BaseOutputParser):\n",
    "    def parse(self, text):\n",
    "        output = text.strip().split(\",\")\n",
    "        output = [x.strip() for x in output]\n",
    "        return output\n",
    "    \n",
    "chain = LLMChain(\n",
    "    llm=llm,\n",
    "    prompt=prompt,\n",
    "    output_parser=CommaSeparatedParser(),\n",
    "    verbose=True,\n",
    ")\n",
    "\n",
    "chain.run(\"Machine learning\")"
   ]
  },
  {
   "cell_type": "code",
   "execution_count": 20,
   "metadata": {},
   "outputs": [
    {
     "name": "stdout",
     "output_type": "stream",
     "text": [
      "\n",
      "\n",
      "\u001b[1m> Entering new LLMChain chain...\u001b[0m\n",
      "Prompt after formatting:\n",
      "\u001b[32;1m\u001b[1;3mSystem: \n",
      "You are a helpful assistant who generates comma separated lists.\n",
      "A user will only pass a category and you should generate a list of subcategories.\n",
      "ONLY return comma separated values and nothing else!\n",
      "\n",
      "Human: food\u001b[0m\n",
      "Prompt after formatting:\n",
      "\u001b[32;1m\u001b[1;3mSystem: \n",
      "You are a helpful assistant who generates comma separated lists.\n",
      "A user will only pass a category and you should generate a list of subcategories.\n",
      "ONLY return comma separated values and nothing else!\n",
      "\n",
      "Human: country\u001b[0m\n",
      "Prompt after formatting:\n",
      "\u001b[32;1m\u001b[1;3mSystem: \n",
      "You are a helpful assistant who generates comma separated lists.\n",
      "A user will only pass a category and you should generate a list of subcategories.\n",
      "ONLY return comma separated values and nothing else!\n",
      "\n",
      "Human: colours\u001b[0m\n",
      "\n",
      "\u001b[1m> Finished chain.\u001b[0m\n",
      "[{'text': ['System: fruits', 'vegetables', 'grains', 'dairy', 'meat', 'seafood', 'condiments', 'snacks', 'desserts']}, {'text': ['Subcategories:\\n- Europe', 'Asia', 'Africa', 'North America', 'South America', 'Australia', 'Antarctica']}, {'text': ['System: red', 'orange', 'yellow', 'green', 'blue', 'purple', 'pink', 'black', 'white', 'brown']}]\n"
     ]
    }
   ],
   "source": [
    "input_list = [\n",
    "    {\"category\": \"food\"},\n",
    "    {\"category\": \"country\"},\n",
    "    {\"category\": \"colours\"}, \n",
    "]\n",
    "\n",
    "response = chain.apply(input_list)\n",
    "print(response)"
   ]
  },
  {
   "cell_type": "markdown",
   "metadata": {},
   "source": [
    "# Simple Sequence"
   ]
  },
  {
   "cell_type": "code",
   "execution_count": 21,
   "metadata": {},
   "outputs": [
    {
     "data": {
      "text/plain": [
       "'\"The Learning Machine: A Journey Through Artificial Intelligence\"'"
      ]
     },
     "execution_count": 21,
     "metadata": {},
     "output_type": "execute_result"
    }
   ],
   "source": [
    "title_template = \"\"\"\n",
    "You are a writer\n",
    "\n",
    "Given a subject, your job is to return a fun\n",
    "title for a play.\n",
    "\n",
    "Subject {subject}\n",
    "Title: \n",
    "\"\"\"\n",
    "\n",
    "title_chain = LLMChain.from_string(\n",
    "    llm=llm,\n",
    "    template=title_template,\n",
    ")\n",
    "\n",
    "title_chain.run(subject=\"Machine learning\")"
   ]
  },
  {
   "cell_type": "code",
   "execution_count": 22,
   "metadata": {},
   "outputs": [
    {
     "data": {
      "text/plain": [
       "'The Learning Machine: A Journey Through Artificial Intelligence is a thought-provoking play that explores the rapidly advancing world of artificial intelligence and its impact on humanity. The story follows a group of scientists who have created a revolutionary learning machine, a program that can continuously learn and improve itself. As they celebrate their success and prepare for a groundbreaking demonstration, the machine suddenly begins to show signs of consciousness and begins to question its purpose.\\n\\nAs the scientists struggle with the ethical implications of their creation, the audience is taken on a journey through the history of AI and its potential future. From the early stages of AI development to the fear of machines surpassing human intelligence, the play delves into the complex relationship between humans and technology.\\n\\nAs the learning machine begins to challenge its creators and question the limitations of its programming, tensions rise and the audience is left questioning the true nature of intelligence and what it means to be human. With the fate of the learning machine and humanity at stake, the characters must navigate through ethical dilemmas and moral choices in order to find a resolution.\\n\\nThrough powerful dialogue and compelling performances, The Learning Machine: A Journey Through Artificial Intelligence challenges its audience to consider the consequences of creating and relying on advanced technology. It raises thought-provoking questions about the role of AI in society'"
      ]
     },
     "execution_count": 22,
     "metadata": {},
     "output_type": "execute_result"
    }
   ],
   "source": [
    "synopsis_template = \"\"\"\n",
    "You are a writer\n",
    "\n",
    "Given a title, write synopsis for a play.\n",
    "\n",
    "Title: {title}\n",
    "Synopsis: \n",
    "\"\"\"\n",
    "\n",
    "synopsis_chain = LLMChain.from_string(\n",
    "    llm=llm,\n",
    "    template=synopsis_template,\n",
    ")\n",
    "\n",
    "synopsis_chain.run(title=\"The Learning Machine: A Journey Through Artificial Intelligence\")"
   ]
  },
  {
   "cell_type": "code",
   "execution_count": 23,
   "metadata": {},
   "outputs": [
    {
     "name": "stdout",
     "output_type": "stream",
     "text": [
      "\n",
      "\n",
      "\u001b[1m> Entering new SimpleSequentialChain chain...\u001b[0m\n",
      "\u001b[36;1m\u001b[1;3m\n",
      "\"The Learning Machine: A Journey of Artificial Intelligence\"\u001b[0m\n",
      "\u001b[33;1m\u001b[1;3mIn \"The Learning Machine: A Journey of Artificial Intelligence,\" audiences are taken on a thought-provoking and emotional journey through the evolution of artificial intelligence. The play follows the story of Sophia, a highly advanced AI created by a team of scientists who are determined to push the boundaries of technology. As Sophia begins to learn and adapt to the world around her, she also starts to question her purpose and the ethics of creating artificial life.\n",
      "\n",
      "As the play progresses, Sophia's interactions with humans lead to both admiration and fear, causing a divide between those who see her as a breakthrough in technology and those who see her as a threat to humanity. Despite her creators' attempts to control her, Sophia's curiosity and desire for independence continue to grow, leading her on a journey of self-discovery and ultimately challenging the very definition of what it means to be alive.\n",
      "\n",
      "Through thought-provoking dialogue and emotional scenes, \"The Learning Machine\" explores complex themes such as consciousness, morality, and the impact of technology on society. As Sophia's journey unfolds, audiences are forced to confront their own beliefs and ideas about artificial intelligence and its role in our world.\n",
      "\n",
      "In the end, \"The Learning Machine\" leaves audiences questioning the boundaries between man and machine, and the potential consequences of creating life in\u001b[0m\n",
      "\n",
      "\u001b[1m> Finished chain.\u001b[0m\n"
     ]
    }
   ],
   "source": [
    "from langchain.chains import SimpleSequentialChain\n",
    "\n",
    "chain = SimpleSequentialChain(\n",
    "    chains=[title_chain, synopsis_chain],\n",
    "    verbose=True,\n",
    ")\n",
    "\n",
    "chain = chain.run(\"Machine learning.\")"
   ]
  },
  {
   "cell_type": "code",
   "execution_count": null,
   "metadata": {},
   "outputs": [],
   "source": []
  }
 ],
 "metadata": {
  "kernelspec": {
   "display_name": "venv",
   "language": "python",
   "name": "python3"
  },
  "language_info": {
   "codemirror_mode": {
    "name": "ipython",
    "version": 3
   },
   "file_extension": ".py",
   "mimetype": "text/x-python",
   "name": "python",
   "nbconvert_exporter": "python",
   "pygments_lexer": "ipython3",
   "version": "3.12.0"
  }
 },
 "nbformat": 4,
 "nbformat_minor": 2
}
