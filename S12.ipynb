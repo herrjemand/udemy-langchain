{
 "cells": [
  {
   "cell_type": "code",
   "execution_count": 1,
   "metadata": {},
   "outputs": [],
   "source": [
    "from dotenv import load_dotenv\n",
    "load_dotenv(dotenv_path='.env')\n",
    "\n",
    "import os"
   ]
  },
  {
   "cell_type": "code",
   "execution_count": 2,
   "metadata": {},
   "outputs": [],
   "source": [
    "from langchain.chains import LLMChain\n",
    "from langchain.chat_models import ChatOpenAI"
   ]
  },
  {
   "cell_type": "code",
   "execution_count": 3,
   "metadata": {},
   "outputs": [],
   "source": [
    "prompt = \"\"\"\n",
    "System: You are a Product Manager, and your job is to design software.\n",
    "You are provided with a rough description of the software you need to build.\n",
    "Expand on this description and generate the complete set of functionalities needed to get that software to work.\n",
    "Don't hesitate to make design choices if the initial description doesn't provide enough information.\n",
    "\n",
    "Human: {human}\n",
    "\n",
    "Complete software design:\n",
    "\"\"\"\n",
    "\n",
    "llm = ChatOpenAI()\n",
    "\n",
    "product_manager_chain = LLMChain.from_string(\n",
    "    llm=llm,\n",
    "    template=prompt,\n",
    ")"
   ]
  },
  {
   "cell_type": "code",
   "execution_count": 4,
   "metadata": {},
   "outputs": [],
   "source": [
    "request = \"\"\"\n",
    "Build a software for AutoML in Pytorch\n",
    "The code should be able to search the best architecture and hyperparameters for CNN network based on different metrics.\n",
    "You can use all the necessary packages you need.\n",
    "\"\"\""
   ]
  },
  {
   "cell_type": "code",
   "execution_count": 20,
   "metadata": {},
   "outputs": [],
   "source": [
    "def safe_write(path: str, content: str):\n",
    "    path = os.path.join(\"./s12_software/\", path)\n",
    "    \n",
    "    os.makedirs(os.path.dirname(path), exist_ok=True)\n",
    "    if os.path.exists(path):\n",
    "        raise Exception(f\"File {path} already exists\")\n",
    "    with open(path, 'w+') as f:\n",
    "        f.write(content)"
   ]
  },
  {
   "cell_type": "markdown",
   "metadata": {},
   "source": [
    "## The class structure generation"
   ]
  },
  {
   "cell_type": "code",
   "execution_count": 5,
   "metadata": {},
   "outputs": [],
   "source": [
    "prompt = \"\"\"\n",
    "System: You are a Software Engineer writing code in Python.\n",
    "Your job is to come up with a detailed description of all the necessary functions, classes, methods, and attributes for the following software description.\n",
    "Make sure to design a software that incorporates all the best practices of software engineering.\n",
    "Make sure you describe how all the different classes and functions interact with each other.\n",
    "The resulting software should be fully functional.\n",
    "\n",
    "Software description:\n",
    "{input}\n",
    "\n",
    "Software design:\n",
    "\"\"\"\n",
    "\n",
    "tech_lead_chain = LLMChain.from_string(\n",
    "    llm=llm,\n",
    "    template=prompt,\n",
    ")"
   ]
  },
  {
   "cell_type": "markdown",
   "metadata": {},
   "source": [
    "## File structure"
   ]
  },
  {
   "cell_type": "code",
   "execution_count": 7,
   "metadata": {},
   "outputs": [],
   "source": [
    "prompt = \"\"\"\n",
    "System: You are a Software Engineer and your job is to design software in Python.\n",
    "Provide a detailed description of the file structure with the required folders and Python files.\n",
    "Make sure to design a file structure that incorporates all the best practices of software engineering.\n",
    "Make sure you explain in which folder each file belong to.\n",
    "Folder and file names should not contain any white spaces.\n",
    "A human should be able to exactly recreate that file structure.\n",
    "Make sure that those files account for the design of the software.\n",
    "Don't generate non-python files.\n",
    "\n",
    "Software design: {input}\n",
    "\n",
    "File structure:\n",
    "\"\"\"\n",
    "\n",
    "file_structure_chain = LLMChain.from_string(\n",
    "    llm=llm,\n",
    "    template=prompt,\n",
    ")\n",
    "\n"
   ]
  },
  {
   "cell_type": "markdown",
   "metadata": {},
   "source": [
    "## The file paths"
   ]
  },
  {
   "cell_type": "code",
   "execution_count": 10,
   "metadata": {},
   "outputs": [],
   "source": [
    "prompt = \"\"\"\n",
    "System: Return the complete list of the file paths, including the folder structure, using the following list of python files.\n",
    "Only return well formed file paths: ./<FOLDER_NAME>/<FILE_NAME>.py\n",
    "\n",
    "Follow the following template:\n",
    "<FILE_PATH 1>\n",
    "<FILE_PATH 2>\n",
    "...\n",
    "\n",
    "\n",
    "Human: {input}\n",
    "\n",
    "File paths list:\n",
    "\"\"\"\n",
    "\n",
    "file_path_chain = LLMChain.from_string(\n",
    "    llm=llm,\n",
    "    template=prompt,\n",
    ")"
   ]
  },
  {
   "cell_type": "markdown",
   "metadata": {},
   "source": [
    "## The code"
   ]
  },
  {
   "cell_type": "code",
   "execution_count": 15,
   "metadata": {},
   "outputs": [],
   "source": [
    "prompt = \"\"\"\n",
    "System: You are a Software Engineer and your job is to design software in Python.\n",
    "Write the code for the following file using the following description. Only return code! The code should be able to run in a python interpreter.\n",
    "Make sure to implement all the methods and functions.\n",
    "Make sure to import all the necessary packages.\n",
    "The code should be complete.\n",
    "\n",
    "Files structure: {structure}\n",
    "\n",
    "Software description: {class_structure}\n",
    "\n",
    "File name: {file}\n",
    "\n",
    "Python code for this file:\n",
    "\"\"\"\n",
    "\n",
    "code_chain = LLMChain.from_string(\n",
    "    llm=llm,\n",
    "    template=prompt,\n",
    ")"
   ]
  },
  {
   "cell_type": "markdown",
   "metadata": {},
   "source": [
    "## Iterating"
   ]
  },
  {
   "cell_type": "code",
   "execution_count": 22,
   "metadata": {},
   "outputs": [],
   "source": [
    "prompt = \"\"\"\n",
    "Return `<TRUE>` if the following Python code contains non-implemented parts and return `<FALSE>` otherwise.\n",
    "\n",
    "Code: {code}\n",
    "\"\"\"\n",
    "\n",
    "missing_chain = LLMChain.from_string(\n",
    "    llm=llm,\n",
    "    template=prompt,\n",
    ")\n"
   ]
  },
  {
   "cell_type": "code",
   "execution_count": 23,
   "metadata": {},
   "outputs": [],
   "source": [
    "prompt = \"\"\"\n",
    "System: You are a Software Engineer. The following Python code may contain non-implemented functions.\n",
    "If the code contains non-implemented functions, describe what additional functions or classes you would need to implement those missing implementations.\n",
    "Provide a detailed description of those additional classes or functions that you need to implement.\n",
    "Make sure to design a software that incorporates all the best practices of software engineering.\n",
    "\n",
    "Class description: {class_structure}\n",
    "\n",
    "Code: {code}\n",
    "\n",
    "Only return text if some functions are not implemented.\n",
    "The new classes and functions needed:\n",
    "\"\"\"\n",
    "\n",
    "long_llm = ChatOpenAI(model_name=\"gpt-3.5-turbo-16k\")\n",
    "\n",
    "new_classes_chain = LLMChain.from_string(\n",
    "    llm=long_llm,\n",
    "    template=prompt,\n",
    ")"
   ]
  },
  {
   "cell_type": "markdown",
   "metadata": {},
   "source": [
    "## Main app"
   ]
  },
  {
   "cell_type": "code",
   "execution_count": 16,
   "metadata": {},
   "outputs": [],
   "source": [
    "design = product_manager_chain.run(request)\n",
    "class_structure = tech_lead_chain.run(design)\n",
    "file_structure = file_structure_chain.run(class_structure)\n",
    "files = file_path_chain.run(file_structure)\n",
    "\n",
    "files_list = files.split('\\n')"
   ]
  },
  {
   "cell_type": "code",
   "execution_count": 25,
   "metadata": {},
   "outputs": [],
   "source": [
    "missing = True\n",
    "missing_dict = {\n",
    "    file: True for file in files_list\n",
    "}\n",
    "\n",
    "code_dict = {}\n",
    "\n",
    "while missing:\n",
    "    missing = False\n",
    "\n",
    "    new_classes_list = []\n",
    "    for file in files_list:\n",
    "        if not missing_dict[file]:\n",
    "            safe_write(file, code_dict[file])\n",
    "            continue\n",
    "\n",
    "        code = code_chain.predict(\n",
    "            structure=file_structure,\n",
    "            class_structure=class_structure,\n",
    "            file=file\n",
    "        )\n",
    "\n",
    "        code_dict[file] = code\n",
    "\n",
    "        response = missing_chain.run(code=code)\n",
    "        missing_dict[file] = \"<TRUE>\" in response\n",
    "\n",
    "        missing = missing or missing_dict[file]\n",
    "\n",
    "        if missing_dict[file]:\n",
    "            new_classes = new_classes_chain.run(\n",
    "                class_structure=class_structure,\n",
    "                code=code\n",
    "            )\n",
    "            new_classes_list.append(new_classes)\n",
    "\n",
    "    class_structure = \"\\n\\n\".join(new_classes_list)"
   ]
  },
  {
   "cell_type": "code",
   "execution_count": 12,
   "metadata": {},
   "outputs": [
    {
     "name": "stdout",
     "output_type": "stream",
     "text": [
      "./main.py\n",
      "./user_interface.py\n",
      "./dataset_selection.py\n",
      "./search_space_definition.py\n",
      "./auto_ml_algorithm.py\n",
      "./model_training_evaluation.py\n",
      "./results_visualization.py\n",
      "./model_export_deployment.py\n",
      "./integration_pytorch.py\n",
      "./error_handling_logging.py\n",
      "./customization_extensibility.py\n",
      "./documentation_support.py\n"
     ]
    }
   ],
   "source": [
    "print(files)"
   ]
  }
 ],
 "metadata": {
  "kernelspec": {
   "display_name": "venv",
   "language": "python",
   "name": "python3"
  },
  "language_info": {
   "codemirror_mode": {
    "name": "ipython",
    "version": 3
   },
   "file_extension": ".py",
   "mimetype": "text/x-python",
   "name": "python",
   "nbconvert_exporter": "python",
   "pygments_lexer": "ipython3",
   "version": "3.10.13"
  }
 },
 "nbformat": 4,
 "nbformat_minor": 2
}
